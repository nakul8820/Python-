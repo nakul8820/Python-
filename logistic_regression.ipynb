{
  "nbformat": 4,
  "nbformat_minor": 0,
  "metadata": {
    "colab": {
      "provenance": [],
      "authorship_tag": "ABX9TyPnmUwpcjyLr+6/4Y1TavKT",
      "include_colab_link": true
    },
    "kernelspec": {
      "name": "python3",
      "display_name": "Python 3"
    },
    "language_info": {
      "name": "python"
    }
  },
  "cells": [
    {
      "cell_type": "markdown",
      "metadata": {
        "id": "view-in-github",
        "colab_type": "text"
      },
      "source": [
        "<a href=\"https://colab.research.google.com/github/nakul8820/Python-/blob/main/logistic_regression.ipynb\" target=\"_parent\"><img src=\"https://colab.research.google.com/assets/colab-badge.svg\" alt=\"Open In Colab\"/></a>"
      ]
    },
    {
      "cell_type": "code",
      "execution_count": null,
      "metadata": {
        "id": "5j1qk08KBSXw"
      },
      "outputs": [],
      "source": [
        "import numpy as np\n",
        "import matplotlib.pyplot as plt\n",
        "from sklearn.linear_model import LinearRegression\n",
        "import pandas as pd\n",
        "data = pd.read_csv(\"/content/nyc-east-river-bicycle-counts.csv\")\n",
        "\n",
        "from sklearn.model_selection import train_test_split\n",
        "\n",
        "# Define features (x) and target (y)\n",
        "# Assuming 'Total' is the target variable and other relevant columns are features\n",
        "# You might need to adjust the features based on your specific analysis\n",
        "x = data[['High Temp (°F)', 'Low Temp (°F)', 'Brooklyn Bridge', 'Manhattan Bridge', 'Williamsburg Bridge', 'Queensboro Bridge']]\n",
        "y = data['Total']\n",
        "\n",
        "x_train,x_validate,y_train,y_validate = train_test_split(x,y,test_size = 0.2,random_state = 12345)"
      ]
    },
    {
      "cell_type": "code",
      "metadata": {
        "colab": {
          "base_uri": "https://localhost:8080/"
        },
        "id": "60656bc4",
        "outputId": "c82e5366-79c7-43e1-ee27-339f8b36deca"
      },
      "source": [
        "from sklearn.linear_model import LogisticRegression\n",
        "from sklearn.metrics import accuracy_score, confusion_matrix, classification_report\n",
        "\n",
        "# Create a Logistic Regression model\n",
        "model = LogisticRegression()\n",
        "\n",
        "# Train the model using the training data\n",
        "model.fit(x_train, y_train)\n",
        "\n",
        "# Predict on the validation set\n",
        "y_pred = model.predict(x_validate)\n",
        "\n",
        "# Evaluate the model\n",
        "print(\"Accuracy:\", accuracy_score(y_validate, y_pred))\n",
        "print(\"Confusion Matrix:\\n\", confusion_matrix(y_validate, y_pred))\n",
        "print(\"Classification Report:\\n\", classification_report(y_validate, y_pred))"
      ],
      "execution_count": null,
      "outputs": [
        {
          "output_type": "stream",
          "name": "stdout",
          "text": [
            "Accuracy: 0.9285714285714286\n",
            "Confusion Matrix:\n",
            " [[2 0 0 0 0 0 0 0 0 0 0 0 0 0 0 0 0 0 0 0 0 0 0 0 0 0]\n",
            " [0 3 0 0 0 0 0 0 0 0 0 0 0 0 0 0 0 0 0 0 0 0 0 0 0 0]\n",
            " [0 0 0 0 2 0 0 0 0 0 0 0 0 0 0 0 0 0 0 0 0 0 0 0 0 0]\n",
            " [0 0 0 1 0 0 0 0 0 0 0 0 0 0 0 0 0 0 0 0 0 0 0 0 0 0]\n",
            " [0 0 0 0 0 0 0 0 0 0 0 0 0 0 0 0 0 0 0 0 0 0 0 0 0 0]\n",
            " [0 0 0 0 0 0 0 0 0 0 0 0 0 0 1 0 0 0 0 0 0 0 0 0 0 0]\n",
            " [0 0 0 0 0 0 1 0 0 0 0 0 0 0 0 0 0 0 0 0 0 0 0 0 0 0]\n",
            " [0 0 0 0 0 0 0 2 0 0 0 0 0 0 0 0 0 0 0 0 0 0 0 0 0 0]\n",
            " [0 0 0 0 0 0 0 0 1 0 0 0 0 0 0 0 0 0 0 0 0 0 0 0 0 0]\n",
            " [0 0 0 0 0 0 0 0 0 1 0 0 0 0 0 0 0 0 0 0 0 0 0 0 0 0]\n",
            " [0 0 0 0 0 0 0 0 0 0 1 0 0 0 0 0 0 0 0 0 0 0 0 0 0 0]\n",
            " [0 0 0 0 0 0 0 0 0 0 0 2 0 0 0 0 0 0 0 0 0 0 0 0 0 0]\n",
            " [0 0 0 0 0 0 0 0 0 0 0 0 1 0 0 0 0 0 0 0 0 0 0 0 0 0]\n",
            " [0 0 0 0 0 0 0 0 0 0 0 0 0 2 0 0 0 0 0 0 0 0 0 0 0 0]\n",
            " [0 0 0 0 0 0 0 0 0 0 0 0 0 0 1 0 0 0 0 0 0 0 0 0 0 0]\n",
            " [0 0 0 0 0 0 0 0 0 0 0 0 0 0 0 1 0 0 0 0 0 0 0 0 0 0]\n",
            " [0 0 0 0 0 0 0 0 0 0 0 0 0 0 0 0 3 0 0 0 0 0 0 0 0 0]\n",
            " [0 0 0 0 0 0 0 0 0 0 0 0 0 0 0 0 0 2 0 0 0 0 0 0 0 0]\n",
            " [0 0 0 0 0 0 0 0 0 0 0 0 0 0 0 0 0 0 2 0 0 0 0 0 0 0]\n",
            " [0 0 0 0 0 0 0 0 0 0 0 0 0 0 0 0 0 0 0 1 0 0 0 0 0 0]\n",
            " [0 0 0 0 0 0 0 0 0 0 0 0 0 0 0 0 0 0 0 0 2 0 0 0 0 0]\n",
            " [0 0 0 0 0 0 0 0 0 0 0 0 0 0 0 0 0 0 0 0 0 2 0 0 0 0]\n",
            " [0 0 0 0 0 0 0 0 0 0 0 0 0 0 0 0 0 0 0 0 0 0 2 0 0 0]\n",
            " [0 0 0 0 0 0 0 0 0 0 0 0 0 0 0 0 0 0 0 0 0 0 0 3 0 0]\n",
            " [0 0 0 0 0 0 0 0 0 0 0 0 0 0 0 0 0 0 0 0 0 0 0 0 2 0]\n",
            " [0 0 0 0 0 0 0 0 0 0 0 0 0 0 0 0 0 0 0 0 0 0 0 0 0 1]]\n",
            "Classification Report:\n",
            "               precision    recall  f1-score   support\n",
            "\n",
            "        4335       1.00      1.00      1.00         2\n",
            "        4510       1.00      1.00      1.00         3\n",
            "        4759       0.00      0.00      0.00         2\n",
            "        6922       1.00      1.00      1.00         1\n",
            "        8067       0.00      0.00      0.00         0\n",
            "        9126       0.00      0.00      0.00         1\n",
            "        9471       1.00      1.00      1.00         1\n",
            "       11497       1.00      1.00      1.00         2\n",
            "       11919       1.00      1.00      1.00         1\n",
            "       12744       1.00      1.00      1.00         1\n",
            "       13005       1.00      1.00      1.00         1\n",
            "       13312       1.00      1.00      1.00         2\n",
            "       13426       1.00      1.00      1.00         1\n",
            "       14954       1.00      1.00      1.00         2\n",
            "       15631       0.50      1.00      0.67         1\n",
            "       16375       1.00      1.00      1.00         1\n",
            "       17432       1.00      1.00      1.00         3\n",
            "       17570       1.00      1.00      1.00         2\n",
            "       18180       1.00      1.00      1.00         2\n",
            "       18315       1.00      1.00      1.00         1\n",
            "       19914       1.00      1.00      1.00         2\n",
            "       20850       1.00      1.00      1.00         2\n",
            "       22127       1.00      1.00      1.00         2\n",
            "       22591       1.00      1.00      1.00         3\n",
            "       23090       1.00      1.00      1.00         2\n",
            "       23318       1.00      1.00      1.00         1\n",
            "\n",
            "    accuracy                           0.93        42\n",
            "   macro avg       0.87      0.88      0.87        42\n",
            "weighted avg       0.92      0.93      0.92        42\n",
            "\n"
          ]
        }
      ]
    },
    {
      "cell_type": "code",
      "metadata": {
        "id": "15f299d9",
        "outputId": "054e955e-d347-46bf-b968-cb89b29c7b9d",
        "colab": {
          "base_uri": "https://localhost:8080/"
        }
      },
      "source": [
        "from sklearn.linear_model import LinearRegression\n",
        "from sklearn.metrics import mean_squared_error, r2_score\n",
        "\n",
        "# Create a Linear Regression model\n",
        "linear_model = LinearRegression()\n",
        "\n",
        "# Train the model\n",
        "linear_model.fit(x_train, y_train)\n",
        "\n",
        "# Predict on the validation set\n",
        "y_pred_linear = linear_model.predict(x_validate)\n",
        "\n",
        "# Evaluate the model\n",
        "print(\"Mean Squared Error:\", mean_squared_error(y_validate, y_pred_linear))\n",
        "print(\"R-squared:\", r2_score(y_validate, y_pred_linear))"
      ],
      "execution_count": null,
      "outputs": [
        {
          "output_type": "stream",
          "name": "stdout",
          "text": [
            "Mean Squared Error: 1.9950808583719454e-23\n",
            "R-squared: 1.0\n"
          ]
        }
      ]
    }
  ]
}